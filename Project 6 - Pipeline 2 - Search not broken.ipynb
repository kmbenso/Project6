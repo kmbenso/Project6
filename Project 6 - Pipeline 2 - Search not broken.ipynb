{
 "cells": [
  {
   "cell_type": "code",
   "execution_count": 2,
   "metadata": {
    "collapsed": true
   },
   "outputs": [],
   "source": [
    "import pandas as pd\n",
    "from os import chdir\n",
    "chdir('../Project_6/')"
   ]
  },
  {
   "cell_type": "markdown",
   "metadata": {
    "collapsed": true
   },
   "source": [
    "##  Parse: Encode search as document vector "
   ]
  },
  {
   "cell_type": "markdown",
   "metadata": {},
   "source": [
    "## Mine: Select document vectors for all pages from database"
   ]
  },
  {
   "cell_type": "code",
   "execution_count": 3,
   "metadata": {
    "collapsed": false,
    "scrolled": true
   },
   "outputs": [
    {
     "data": {
      "text/plain": [
       "Pipeline(steps=[('tfidf', TfidfVectorizer(analyzer=u'word', binary=False, decode_error=u'strict',\n",
       "        dtype=<type 'numpy.int64'>, encoding=u'utf-8', input=u'content',\n",
       "        lowercase=True, max_df=1.0, max_features=None, min_df=1,\n",
       "        ngram_range=(1, 1), norm=u'l2', preprocessor=None, smooth_idf=Tru...TruncatedSVD(algorithm='randomized', n_components=500, n_iter=10,\n",
       "       random_state=42, tol=0.0))])"
      ]
     },
     "execution_count": 3,
     "metadata": {},
     "output_type": "execute_result"
    }
   ],
   "source": [
    "from sklearn.externals import joblib\n",
    "transformer = joblib.load('/Users/karibenson/dsi/dsi-workspace/Project_6_KB/vectorizer.pkl')\n",
    "transformer"
   ]
  },
  {
   "cell_type": "code",
   "execution_count": 5,
   "metadata": {
    "collapsed": false,
    "scrolled": true
   },
   "outputs": [],
   "source": [
    "from lib.encoding_module import get_searchterm_vector, get_page_vector"
   ]
  },
  {
   "cell_type": "code",
   "execution_count": 62,
   "metadata": {
    "collapsed": false
   },
   "outputs": [],
   "source": [
    "search_vector = get_searchterm_vector(transformer,\"best pets\")"
   ]
  },
  {
   "cell_type": "code",
   "execution_count": 19,
   "metadata": {
    "collapsed": false,
    "scrolled": false
   },
   "outputs": [
    {
     "name": "stdout",
     "output_type": "stream",
     "text": [
      "Connected to server joshuacook.me.\n"
     ]
    }
   ],
   "source": [
    "from lib.database_module import select_all_page_vectors\n",
    "all_page_vectors = select_all_page_vectors(location='remote')"
   ]
  },
  {
   "cell_type": "markdown",
   "metadata": {},
   "source": [
    "## Model: Find five most similar documents based on document vectors"
   ]
  },
  {
   "cell_type": "code",
   "execution_count": 20,
   "metadata": {
    "collapsed": true
   },
   "outputs": [],
   "source": [
    "from sklearn.neighbors import NearestNeighbors"
   ]
  },
  {
   "cell_type": "code",
   "execution_count": 21,
   "metadata": {
    "collapsed": true
   },
   "outputs": [],
   "source": [
    "# K nearest neighbors finds class based on the class of the nearest neighbors.  neighbors returns the coordinates (vectors) of the neighbors, not the class."
   ]
  },
  {
   "cell_type": "code",
   "execution_count": 56,
   "metadata": {
    "collapsed": false
   },
   "outputs": [],
   "source": [
    "all_page_vectors_dict = {}\n",
    "for cat_name, vector in all_page_vectors:\n",
    "    all_page_vectors_dict[cat_name] = vector\n"
   ]
  },
  {
   "cell_type": "code",
   "execution_count": 58,
   "metadata": {
    "collapsed": true
   },
   "outputs": [],
   "source": [
    "apv_df = pd.DataFrame.from_dict(all_page_vectors_dict, orient='index')"
   ]
  },
  {
   "cell_type": "code",
   "execution_count": 59,
   "metadata": {
    "collapsed": false
   },
   "outputs": [
    {
     "data": {
      "text/html": [
       "<div>\n",
       "<table border=\"1\" class=\"dataframe\">\n",
       "  <thead>\n",
       "    <tr style=\"text-align: right;\">\n",
       "      <th></th>\n",
       "      <th>0</th>\n",
       "      <th>1</th>\n",
       "      <th>2</th>\n",
       "      <th>3</th>\n",
       "      <th>4</th>\n",
       "      <th>5</th>\n",
       "      <th>6</th>\n",
       "      <th>7</th>\n",
       "      <th>8</th>\n",
       "      <th>9</th>\n",
       "      <th>...</th>\n",
       "      <th>490</th>\n",
       "      <th>491</th>\n",
       "      <th>492</th>\n",
       "      <th>493</th>\n",
       "      <th>494</th>\n",
       "      <th>495</th>\n",
       "      <th>496</th>\n",
       "      <th>497</th>\n",
       "      <th>498</th>\n",
       "      <th>499</th>\n",
       "    </tr>\n",
       "  </thead>\n",
       "  <tbody>\n",
       "    <tr>\n",
       "      <th>17645570</th>\n",
       "      <td>0.039274</td>\n",
       "      <td>0.055023</td>\n",
       "      <td>-0.014005</td>\n",
       "      <td>-0.016520</td>\n",
       "      <td>0.022691</td>\n",
       "      <td>-0.018724</td>\n",
       "      <td>0.002756</td>\n",
       "      <td>0.005556</td>\n",
       "      <td>-0.005737</td>\n",
       "      <td>-0.009030</td>\n",
       "      <td>...</td>\n",
       "      <td>-0.010056</td>\n",
       "      <td>-0.014171</td>\n",
       "      <td>-0.013905</td>\n",
       "      <td>0.003224</td>\n",
       "      <td>0.005246</td>\n",
       "      <td>0.004800</td>\n",
       "      <td>0.032152</td>\n",
       "      <td>0.011491</td>\n",
       "      <td>0.022782</td>\n",
       "      <td>0.003275</td>\n",
       "    </tr>\n",
       "    <tr>\n",
       "      <th>37019651</th>\n",
       "      <td>0.101253</td>\n",
       "      <td>0.161288</td>\n",
       "      <td>-0.224323</td>\n",
       "      <td>0.112926</td>\n",
       "      <td>-0.060645</td>\n",
       "      <td>0.066798</td>\n",
       "      <td>0.023622</td>\n",
       "      <td>0.008715</td>\n",
       "      <td>-0.017338</td>\n",
       "      <td>0.008191</td>\n",
       "      <td>...</td>\n",
       "      <td>-0.001198</td>\n",
       "      <td>-0.016804</td>\n",
       "      <td>-0.015773</td>\n",
       "      <td>-0.009290</td>\n",
       "      <td>-0.000526</td>\n",
       "      <td>0.004315</td>\n",
       "      <td>-0.003473</td>\n",
       "      <td>0.003300</td>\n",
       "      <td>-0.009625</td>\n",
       "      <td>-0.005633</td>\n",
       "    </tr>\n",
       "    <tr>\n",
       "      <th>9109512</th>\n",
       "      <td>0.039232</td>\n",
       "      <td>0.039217</td>\n",
       "      <td>0.008973</td>\n",
       "      <td>-0.047728</td>\n",
       "      <td>-0.015612</td>\n",
       "      <td>0.017161</td>\n",
       "      <td>0.000355</td>\n",
       "      <td>-0.002134</td>\n",
       "      <td>-0.002816</td>\n",
       "      <td>-0.015128</td>\n",
       "      <td>...</td>\n",
       "      <td>0.031067</td>\n",
       "      <td>0.011480</td>\n",
       "      <td>-0.021530</td>\n",
       "      <td>-0.004341</td>\n",
       "      <td>0.004190</td>\n",
       "      <td>0.044702</td>\n",
       "      <td>0.011483</td>\n",
       "      <td>-0.013307</td>\n",
       "      <td>-0.031249</td>\n",
       "      <td>-0.063539</td>\n",
       "    </tr>\n",
       "    <tr>\n",
       "      <th>45260809</th>\n",
       "      <td>0.186930</td>\n",
       "      <td>-0.060678</td>\n",
       "      <td>-0.004299</td>\n",
       "      <td>0.012090</td>\n",
       "      <td>0.001639</td>\n",
       "      <td>-0.007242</td>\n",
       "      <td>0.005464</td>\n",
       "      <td>-0.005203</td>\n",
       "      <td>0.001449</td>\n",
       "      <td>0.013998</td>\n",
       "      <td>...</td>\n",
       "      <td>0.019338</td>\n",
       "      <td>-0.001007</td>\n",
       "      <td>0.019923</td>\n",
       "      <td>0.030012</td>\n",
       "      <td>0.018544</td>\n",
       "      <td>-0.058307</td>\n",
       "      <td>-0.000886</td>\n",
       "      <td>-0.040026</td>\n",
       "      <td>-0.012019</td>\n",
       "      <td>0.010476</td>\n",
       "    </tr>\n",
       "    <tr>\n",
       "      <th>6565890</th>\n",
       "      <td>0.067058</td>\n",
       "      <td>0.092235</td>\n",
       "      <td>-0.103929</td>\n",
       "      <td>0.040591</td>\n",
       "      <td>-0.002851</td>\n",
       "      <td>0.008336</td>\n",
       "      <td>-0.013674</td>\n",
       "      <td>-0.000052</td>\n",
       "      <td>0.021902</td>\n",
       "      <td>-0.000659</td>\n",
       "      <td>...</td>\n",
       "      <td>0.006890</td>\n",
       "      <td>0.005918</td>\n",
       "      <td>-0.003518</td>\n",
       "      <td>-0.013995</td>\n",
       "      <td>-0.002671</td>\n",
       "      <td>0.020586</td>\n",
       "      <td>0.001678</td>\n",
       "      <td>-0.004499</td>\n",
       "      <td>0.003813</td>\n",
       "      <td>-0.016608</td>\n",
       "    </tr>\n",
       "  </tbody>\n",
       "</table>\n",
       "<p>5 rows × 500 columns</p>\n",
       "</div>"
      ],
      "text/plain": [
       "               0         1         2         3         4         5    \\\n",
       "17645570  0.039274  0.055023 -0.014005 -0.016520  0.022691 -0.018724   \n",
       "37019651  0.101253  0.161288 -0.224323  0.112926 -0.060645  0.066798   \n",
       "9109512   0.039232  0.039217  0.008973 -0.047728 -0.015612  0.017161   \n",
       "45260809  0.186930 -0.060678 -0.004299  0.012090  0.001639 -0.007242   \n",
       "6565890   0.067058  0.092235 -0.103929  0.040591 -0.002851  0.008336   \n",
       "\n",
       "               6         7         8         9      ...          490  \\\n",
       "17645570  0.002756  0.005556 -0.005737 -0.009030    ...    -0.010056   \n",
       "37019651  0.023622  0.008715 -0.017338  0.008191    ...    -0.001198   \n",
       "9109512   0.000355 -0.002134 -0.002816 -0.015128    ...     0.031067   \n",
       "45260809  0.005464 -0.005203  0.001449  0.013998    ...     0.019338   \n",
       "6565890  -0.013674 -0.000052  0.021902 -0.000659    ...     0.006890   \n",
       "\n",
       "               491       492       493       494       495       496  \\\n",
       "17645570 -0.014171 -0.013905  0.003224  0.005246  0.004800  0.032152   \n",
       "37019651 -0.016804 -0.015773 -0.009290 -0.000526  0.004315 -0.003473   \n",
       "9109512   0.011480 -0.021530 -0.004341  0.004190  0.044702  0.011483   \n",
       "45260809 -0.001007  0.019923  0.030012  0.018544 -0.058307 -0.000886   \n",
       "6565890   0.005918 -0.003518 -0.013995 -0.002671  0.020586  0.001678   \n",
       "\n",
       "               497       498       499  \n",
       "17645570  0.011491  0.022782  0.003275  \n",
       "37019651  0.003300 -0.009625 -0.005633  \n",
       "9109512  -0.013307 -0.031249 -0.063539  \n",
       "45260809 -0.040026 -0.012019  0.010476  \n",
       "6565890  -0.004499  0.003813 -0.016608  \n",
       "\n",
       "[5 rows x 500 columns]"
      ]
     },
     "execution_count": 59,
     "metadata": {},
     "output_type": "execute_result"
    }
   ],
   "source": [
    "apv_df.head()"
   ]
  },
  {
   "cell_type": "code",
   "execution_count": 22,
   "metadata": {
    "collapsed": true
   },
   "outputs": [],
   "source": [
    "this_NN = NearestNeighbors()"
   ]
  },
  {
   "cell_type": "code",
   "execution_count": 60,
   "metadata": {
    "collapsed": false
   },
   "outputs": [
    {
     "data": {
      "text/plain": [
       "NearestNeighbors(algorithm='auto', leaf_size=30, metric='minkowski',\n",
       "         metric_params=None, n_jobs=1, n_neighbors=5, p=2, radius=1.0)"
      ]
     },
     "execution_count": 60,
     "metadata": {},
     "output_type": "execute_result"
    }
   ],
   "source": [
    "this_NN.fit(apv_df)"
   ]
  },
  {
   "cell_type": "code",
   "execution_count": 67,
   "metadata": {
    "collapsed": true
   },
   "outputs": [
    {
     "data": {
      "text/plain": [
       "array([  1.38811587e-02,   2.12773781e-02,   1.59221774e-02,\n",
       "        -2.40259368e-02,  -2.91117594e-02,   9.50175326e-03,\n",
       "         5.27072057e-03,  -6.68969497e-03,   1.04174888e-02,\n",
       "         6.28258459e-02,   2.58516624e-03,   2.63435818e-03,\n",
       "         1.52540655e-03,  -1.03566805e-03,  -3.22923118e-03,\n",
       "        -4.09538510e-04,  -2.28082427e-03,  -3.54780695e-03,\n",
       "        -1.04429021e-03,   7.60847922e-04,  -1.66015944e-03,\n",
       "         2.32984601e-03,   2.87155664e-03,   1.16763610e-03,\n",
       "         6.66826554e-04,   3.80653476e-03,   4.53914731e-03,\n",
       "        -8.73076224e-03,  -1.09129363e-02,   1.41013758e-03,\n",
       "        -4.11768712e-03,  -1.17814224e-02,  -5.31667437e-03,\n",
       "        -3.76368070e-03,  -2.08001119e-03,   2.61641949e-03,\n",
       "         1.74157627e-03,   7.53883728e-03,  -3.71687333e-03,\n",
       "        -8.51857519e-03,  -1.37850864e-02,  -1.69316696e-02,\n",
       "         7.32884066e-03,  -5.50847094e-03,   3.37112603e-03,\n",
       "        -8.34551388e-03,  -1.03670215e-02,  -9.64168798e-03,\n",
       "        -9.37497310e-03,  -1.04054247e-02,  -5.06697779e-04,\n",
       "         1.95365380e-03,   4.28133820e-03,  -2.23225662e-02,\n",
       "        -8.57590142e-03,   2.03759535e-02,   1.54896566e-03,\n",
       "        -8.25763074e-03,  -2.47966479e-02,  -2.04821857e-02,\n",
       "         7.19778727e-03,   9.32399947e-03,  -9.15810412e-03,\n",
       "         6.19740646e-03,   1.15077530e-02,   3.45741043e-03,\n",
       "         3.30848799e-03,  -2.40748801e-02,  -7.49862122e-03,\n",
       "        -8.60158232e-03,   3.25536967e-02,  -1.26818888e-02,\n",
       "        -2.84210545e-03,  -1.70824956e-02,   6.40140581e-04,\n",
       "        -5.49904255e-04,  -3.15780987e-02,  -1.58009239e-02,\n",
       "        -1.02840701e-02,  -1.08371130e-02,  -1.01412266e-02,\n",
       "        -9.73030535e-04,  -8.64121654e-04,  -8.13738064e-03,\n",
       "        -2.70888877e-02,   4.35126080e-03,   3.52027519e-02,\n",
       "         1.35032479e-02,  -4.02471883e-03,  -8.73374543e-04,\n",
       "         1.94500483e-02,  -9.49143751e-03,   1.95102859e-02,\n",
       "         9.91655939e-03,   6.08146673e-03,  -1.59594242e-02,\n",
       "         1.17374761e-02,  -3.19681581e-02,  -1.80495331e-03,\n",
       "        -6.34251361e-03,   9.91783216e-05,   2.87644773e-03,\n",
       "        -7.60550374e-03,   8.30450292e-03,   9.44986777e-03,\n",
       "         2.29048128e-02,   1.17532311e-02,  -1.88656232e-02,\n",
       "         1.31837421e-02,  -2.99483314e-05,   4.84647857e-03,\n",
       "         1.25329180e-02,   1.51394154e-02,  -2.04755723e-02,\n",
       "        -1.34730042e-02,   3.13809882e-02,  -1.32720602e-02,\n",
       "         4.21223383e-03,   8.36322497e-03,  -1.49308386e-02,\n",
       "         3.68665647e-03,   8.32463864e-03,  -9.12711991e-03,\n",
       "         1.02157998e-02,   1.11993227e-02,   2.24671936e-03,\n",
       "        -4.66206870e-03,  -1.42099614e-02,   7.54838123e-03,\n",
       "        -2.30945270e-03,   8.94117184e-03,  -1.11197355e-02,\n",
       "        -1.50383883e-02,   2.82192062e-03,   2.10231412e-03,\n",
       "         3.16170716e-02,   1.42117156e-02,  -1.38052298e-02,\n",
       "        -1.44396708e-02,  -3.31393821e-03,   1.78333113e-02,\n",
       "         8.88930408e-03,  -2.24519901e-02,   1.01956093e-02,\n",
       "        -1.14786499e-02,   1.97401449e-02,   3.63867391e-02,\n",
       "        -2.41991105e-02,  -7.68650026e-03,   5.58372716e-03,\n",
       "         6.08489968e-03,  -1.57034743e-02,   1.90221896e-02,\n",
       "         9.48865483e-03,  -2.48380691e-02,  -6.43471670e-04,\n",
       "         1.58330682e-03,   1.51535712e-02,  -3.41580253e-03,\n",
       "        -3.40338673e-02,   1.49211169e-02,   1.60245204e-02,\n",
       "         1.42573686e-02,  -7.14970859e-03,   5.50596379e-03,\n",
       "         3.04005392e-04,   9.52609019e-03,  -4.06219978e-04,\n",
       "         4.78250013e-03,  -1.65943457e-02,  -2.85677854e-02,\n",
       "         7.12279415e-03,  -8.56134350e-03,   4.03880569e-03,\n",
       "        -4.83395355e-03,  -2.27521935e-02,   3.88011766e-03,\n",
       "         1.22628357e-02,  -3.89834761e-04,  -4.96578717e-03,\n",
       "         1.72733998e-02,  -1.28699578e-02,   3.16892565e-03,\n",
       "         1.42255972e-02,   2.54722896e-02,  -1.39186377e-02,\n",
       "         2.43287921e-03,   3.76956354e-02,   4.14350157e-02,\n",
       "        -2.03910922e-03,  -1.01331241e-02,  -3.15093736e-02,\n",
       "         1.68299351e-02,   1.16261734e-02,   2.88593416e-02,\n",
       "         9.46531156e-04,  -2.32707547e-02,   8.10107260e-03,\n",
       "        -9.77959362e-03,  -3.42281845e-03,   7.37198887e-03,\n",
       "        -3.57680550e-02,  -1.18134249e-02,   2.00680743e-02,\n",
       "         1.17407234e-02,  -8.53143566e-03,   8.56520131e-03,\n",
       "        -2.25256966e-02,   8.18845576e-03,   1.29653542e-02,\n",
       "        -2.46159552e-02,  -5.19699398e-02,  -3.76319653e-02,\n",
       "         4.01216453e-03,  -6.37657913e-02,  -2.88022044e-02,\n",
       "         8.38446273e-04,  -1.10590637e-03,  -2.08243459e-02,\n",
       "        -1.68776746e-02,   2.94867918e-02,  -4.65516768e-02,\n",
       "         6.65911313e-02,  -7.44864753e-03,  -2.10739465e-02,\n",
       "         3.08403389e-02,   3.29442997e-03,   2.33171974e-02,\n",
       "         2.44379432e-02,  -2.58687507e-02,  -2.22966698e-02,\n",
       "        -1.45353252e-02,   1.35261228e-02,   1.61499890e-02,\n",
       "        -9.60366661e-03,   8.38794800e-03,  -5.55316524e-03,\n",
       "        -3.37397218e-02,  -7.43152601e-03,   2.36561855e-02,\n",
       "         2.44399060e-02,  -1.65218546e-02,   2.72465065e-02,\n",
       "         2.52513012e-02,   1.68343360e-02,  -5.99002316e-03,\n",
       "        -6.14699285e-03,   6.26031444e-03,   2.46259310e-02,\n",
       "        -7.97522693e-03,   2.84476956e-02,   1.14465314e-02,\n",
       "         1.68737214e-03,  -3.10780653e-02,  -7.38890951e-03,\n",
       "         1.42401990e-02,   1.27492598e-02,   8.31972965e-04,\n",
       "        -7.81447830e-03,  -3.61334484e-02,  -4.01871182e-02,\n",
       "         1.26458493e-02,  -1.18523364e-02,   4.07992489e-03,\n",
       "        -5.65640989e-03,  -1.62912657e-02,   8.32149912e-03,\n",
       "        -1.34491547e-02,  -9.41464680e-03,  -1.13366799e-02,\n",
       "        -2.42149836e-02,   2.38964870e-04,   1.21607859e-02,\n",
       "         6.12666952e-03,  -1.86114849e-02,  -1.62530799e-02,\n",
       "         1.12179338e-02,  -1.26399564e-02,  -3.05300342e-02,\n",
       "        -1.23261421e-02,  -1.00292185e-02,  -4.99913082e-03,\n",
       "        -1.36302936e-03,  -1.86081783e-03,   8.18966809e-03,\n",
       "        -1.43960891e-02,  -1.19634583e-02,  -5.60317889e-03,\n",
       "         4.50842887e-03,   2.12140369e-02,  -1.46384249e-02,\n",
       "         3.92295139e-03,   2.31820576e-02,   1.28511497e-02,\n",
       "         1.63330557e-02,   8.83307805e-04,  -3.42283004e-03,\n",
       "         1.46846580e-03,  -1.06199488e-02,  -4.01083256e-03,\n",
       "        -1.51986190e-02,   3.03278754e-02,  -1.93876195e-04,\n",
       "        -6.70280252e-03,   3.71585194e-03,   1.06176931e-03,\n",
       "         1.45717011e-02,  -8.96119130e-03,   2.35681880e-03,\n",
       "         1.29969655e-02,   6.10317771e-03,  -8.68691705e-03,\n",
       "        -1.46795464e-04,   3.72996452e-02,  -2.68794062e-03,\n",
       "         1.92295225e-02,   8.70283652e-03,   6.35948165e-03,\n",
       "         1.62979603e-03,   8.10186775e-03,   5.91106790e-03,\n",
       "        -2.07342406e-03,   1.96050013e-02,  -1.32965345e-03,\n",
       "         1.88127628e-03,  -5.06657137e-03,   1.92871782e-02,\n",
       "        -7.38956648e-03,  -1.77566754e-02,   2.16319140e-02,\n",
       "        -1.09524871e-03,   1.69617026e-02,   2.47435345e-03,\n",
       "         1.31318587e-03,  -3.25901830e-03,   3.00421060e-03,\n",
       "        -2.47311484e-03,  -4.41387791e-03,   6.33255708e-03,\n",
       "         1.28419975e-02,  -1.70738580e-03,  -2.65683849e-04,\n",
       "         9.87419621e-03,   1.36210609e-03,   8.72705515e-03,\n",
       "        -1.91446532e-02,   1.74852598e-02,   6.99404553e-03,\n",
       "        -8.22385609e-03,   4.98479582e-04,  -1.62630702e-02,\n",
       "         1.19287330e-03,   4.82160845e-03,   7.91592110e-03,\n",
       "         3.14238989e-02,   1.06804444e-02,  -7.49978175e-03,\n",
       "         1.85150933e-02,   7.44967008e-03,   1.71724848e-03,\n",
       "        -3.25839372e-03,  -4.85413293e-03,  -2.76365182e-04,\n",
       "        -1.38268007e-02,  -1.56031670e-03,   4.72212071e-03,\n",
       "        -2.70213618e-03,  -1.00195582e-02,  -1.07847754e-02,\n",
       "         4.02377430e-03,  -2.58051388e-03,   9.26095311e-03,\n",
       "         9.19801799e-03,  -2.40763841e-03,   1.64551043e-02,\n",
       "        -1.05133089e-02,   2.65879102e-03,  -3.86756813e-03,\n",
       "         7.20793488e-03,   1.36079043e-02,   8.61746637e-03,\n",
       "         9.57448839e-03,  -3.52538987e-03,   4.79821011e-03,\n",
       "         4.83065188e-03,   5.64070932e-03,   4.98262599e-03,\n",
       "        -1.24538772e-02,  -3.21911421e-03,   1.26556845e-03,\n",
       "         7.15197984e-03,   4.88370922e-03,   1.02079055e-02,\n",
       "        -2.23350547e-03,  -3.64465815e-03,  -1.32328123e-02,\n",
       "        -1.32458578e-02,   7.28166231e-03,   1.92604778e-03,\n",
       "         1.93350962e-03,   1.04701295e-02,  -1.32858259e-03,\n",
       "        -6.13518899e-03,  -2.14273137e-03,  -7.57307809e-03,\n",
       "         1.45400092e-03,   8.99118468e-03,   5.55925951e-03,\n",
       "         2.75892065e-03,  -9.15251272e-03,   1.86904753e-02,\n",
       "         8.23626288e-03,   3.42866629e-04,  -1.51794849e-03,\n",
       "         1.55335701e-02,   2.64029143e-03,   4.50954069e-03,\n",
       "        -1.09968606e-02,  -7.72904419e-03,  -6.54538607e-04,\n",
       "        -3.78595091e-03,  -1.07948765e-02,  -8.44375991e-03,\n",
       "        -1.37704966e-02,  -1.78555103e-02,  -6.43332370e-03,\n",
       "         3.34899104e-03,  -1.47603914e-03,   1.36278625e-02,\n",
       "        -1.02109922e-02,  -8.50806920e-03,   3.11613869e-03,\n",
       "         2.48096561e-03,  -1.19366609e-02,   1.02840252e-02,\n",
       "        -4.44864740e-03,  -8.52254129e-03,  -1.05249337e-02,\n",
       "         4.03880542e-03,  -1.64112427e-02,   2.25671048e-05,\n",
       "         1.01615905e-02,  -7.83549962e-04,   6.62575030e-04,\n",
       "        -9.48414315e-03,   3.88494977e-04,   1.46765107e-03,\n",
       "         1.64879863e-02,   4.46452410e-03,  -1.80133573e-03,\n",
       "         7.81933715e-03,   4.93183623e-04,  -7.28261077e-04,\n",
       "        -1.00481699e-03,  -1.22024366e-02,  -5.24624437e-03,\n",
       "         1.30030071e-02,   4.16332573e-03,  -5.52036290e-03,\n",
       "         1.04115427e-02,  -1.60237853e-04,  -3.38596928e-03,\n",
       "         1.38749248e-02,   2.01332214e-03,   2.60606201e-03,\n",
       "        -5.28755840e-03,  -7.62701109e-03,  -3.79576925e-03,\n",
       "        -3.87614727e-03,  -5.19504818e-03,   2.27388796e-03,\n",
       "        -1.52618918e-03,   2.48723815e-03,  -3.81423507e-03,\n",
       "         3.92634162e-03,  -1.18520623e-02,  -4.79393294e-03,\n",
       "        -8.57915506e-04,  -7.56134385e-03,  -4.65217639e-03,\n",
       "         2.06720196e-03,  -6.11006234e-03,  -5.95452207e-03,\n",
       "        -1.36855616e-03,   7.78987582e-03,   8.60364984e-03,\n",
       "        -1.19292920e-04,   6.49887419e-03,  -7.77914335e-03,\n",
       "        -5.98862417e-03,   5.15373931e-03,  -2.06025262e-03,\n",
       "         6.07820350e-03,   2.05865224e-03,  -8.21334073e-03,\n",
       "         2.43177275e-03,  -2.31689241e-03,  -6.74819628e-03,\n",
       "        -6.96143925e-03,   2.02552720e-04])"
      ]
     },
     "execution_count": 67,
     "metadata": {},
     "output_type": "execute_result"
    }
   ],
   "source": [
    "search_vector.values()[0][0]"
   ]
  },
  {
   "cell_type": "code",
   "execution_count": 68,
   "metadata": {
    "collapsed": false
   },
   "outputs": [
    {
     "name": "stderr",
     "output_type": "stream",
     "text": [
      "/Users/karibenson/anaconda/lib/python2.7/site-packages/sklearn/utils/validation.py:395: DeprecationWarning: Passing 1d arrays as data is deprecated in 0.17 and will raise ValueError in 0.19. Reshape your data either using X.reshape(-1, 1) if your data has a single feature or X.reshape(1, -1) if it contains a single sample.\n",
      "  DeprecationWarning)\n"
     ]
    },
    {
     "data": {
      "text/plain": [
       "(array([[ 0.40158972,  0.41308359,  0.46097247,  0.46941345,  0.48540245]]),\n",
       " array([[1693, 1789,  712,  373, 1165]]))"
      ]
     },
     "execution_count": 68,
     "metadata": {},
     "output_type": "execute_result"
    }
   ],
   "source": [
    "this_NN.kneighbors(search_vector.values()[0][0])"
   ]
  },
  {
   "cell_type": "code",
   "execution_count": 71,
   "metadata": {
    "collapsed": false
   },
   "outputs": [
    {
     "data": {
      "text/plain": [
       "(8181732, 16654048, 13846997, 18007329, 2904185)"
      ]
     },
     "execution_count": 71,
     "metadata": {},
     "output_type": "execute_result"
    }
   ],
   "source": [
    "apv_df.index[1693],apv_df.index[1789],apv_df.index[712],apv_df.index[373],apv_df.index[1165]"
   ]
  },
  {
   "cell_type": "markdown",
   "metadata": {},
   "source": [
    "## Mine: Retrieve text for the five most similar documents"
   ]
  },
  {
   "cell_type": "code",
   "execution_count": 77,
   "metadata": {
    "collapsed": false
   },
   "outputs": [],
   "source": [
    "import lib.database_module as db"
   ]
  },
  {
   "cell_type": "code",
   "execution_count": 85,
   "metadata": {
    "collapsed": false,
    "scrolled": true
   },
   "outputs": [
    {
     "name": "stdout",
     "output_type": "stream",
     "text": [
      "Connected to server joshuacook.me.\n"
     ]
    },
    {
     "data": {
      "text/plain": [
       "[(2904185,\n",
       "  'Simit (Turkish: simit, Arabic: \\xd8\\xb3\\xd9\\x85\\xd9\\x8a\\xd8\\xb7\\xe2\\x80\\x8e, translit. sam\\xc4\\xabt\\xcb\\xa4\\xe2\\x80\\x8e, Persian: \\xd8\\xb3\\xdb\\x8c\\xd9\\x85\\xdb\\x8c\\xd8\\xaa\\xe2\\x80\\x8e, translit',\n",
       "  'Simit (Turkish: simit, Arabic: \\xd8\\xb3\\xd9\\x85\\xd9\\x8a\\xd8\\xb7\\xe2\\x80\\x8e, translit. sam\\xc4\\xabt\\xcb\\xa4\\xe2\\x80\\x8e, Persian: \\xd8\\xb3\\xdb\\x8c\\xd9\\x85\\xdb\\x8c\\xd8\\xaa\\xe2\\x80\\x8e, translit. s\\xc4\\xabm\\xc4\\xabt\\xcb\\xa4\\xe2\\x80\\x8e, Bulgarian: \\xd1\\x81\\xd0\\xb8\\xd0\\xbc\\xd0\\xb8\\xd1\\x82  simit ), gevrek (Turkish: gevrek, Bulgarian: \\xd0\\xb3\\xd0\\xb5\\xd0\\xb2\\xd1\\x80\\xd0\\xb5\\xd0\\xba, Macedonian: \\xd1\\x93\\xd0\\xb5\\xd0\\xb2\\xd1\\x80\\xd0\\xb5\\xd0\\xba, Serbian: \\xd1\\x92\\xd0\\xb5\\xd0\\xb2\\xd1\\x80\\xd0\\xb5\\xd0\\xba), bokegh (Armenian: \\xd5\\xa2\\xd5\\xb8\\xd5\\xaf\\xd5\\xa5\\xd5\\xb2), or koulouri (Greek: \\xce\\xba\\xce\\xbf\\xcf\\x85\\xce\\xbb\\xce\\xbf\\xcf\\x8d\\xcf\\x81\\xce\\xb9) is a circular bread, typically encrusted with sesame seeds or, less commonly, poppy, flax or sunflower seeds, found across the cuisines of the former Ottoman Empire, and the Middle East. Simits size, crunch, chewiness, and other characteristics vary slightly by region. In \\xc4\\xb0zmir, simit is known as gevrek (\"crisp\"), although it is very similar to the Istanbul variety. Simits in Ankara are smaller and crisper than those of other cities. Simits in Istanbul are made with molasses. Name The word simit comes from Arabic sam\\xc4\\xabd (\\xd8\\xb3\\xd9\\x85\\xd9\\x8a\\xd8\\xaf) \"white bread\" or \"fine flour\". Other names are based on the Greek koulouri (\\xce\\xba\\xce\\xbf\\xcf\\x85\\xce\\xbb\\xce\\xbf\\xcf\\x8d\\xcf\\x81\\xce\\xb9): Aramaic qeluro qelora; or the Turkish gevrek: South Slavic \\xc4\\x91evrek, \\xd1\\x92\\xd0\\xb5\\xd0\\xb2\\xd1\\x80\\xd0\\xb5\\xd0\\xba, gjevrek, \\xd1\\x93\\xd0\\xb5\\xd0\\xb2\\xd1\\x80\\xd0\\xb5\\xd0\\xba, \\xd0\\xb3\\xd0\\xb5\\xd0\\xb2\\xd1\\x80\\xd0\\xb5\\xd0\\xba. Armenian \\xd5\\xa2\\xd5\\xb8\\xd5\\xaf\\xd5\\xa5\\xd5\\xb2 [bokegh]. In Judaeo-Spanish it is known as roskas turkas. Origins Simit has a long history in Istanbul. Archival sources show that the simit has been produced in Istanbul since 1525. Based on \\xc3\\x9csk\\xc3\\xbcdar court records (\\xc5\\x9eer\\xe2\\x80\\x99iyye Sicili) dated 1593, the weight and price of simit was standardized for the first time. The 17th-century traveler Evliya \\xc3\\x87elebi wrote that there were 70 simit bakeries in Istanbul during the 1630s. Jean Brindesis early 19th-century oil paintings about Istanbul daily life show simit sellers on the streets. Warwick Goble, too, made an illustration of these simit sellers of Istanbul in 1906. Simit and its variants became popular across the Ottoman Empire. Consumption Simit is generally served plain, or for breakfast with tea, fruit preserves, or cheese or ayran. Drinking tea with simit is traditional. Simit (\"Bokegh\" in Armenian) is a traditional Christmas bread in Armenia. Simits are sold by street vendors in Turkey, who either have a simit trolley or carry the simit in a tray on their head. Street merchants generally advertise simit as fresh (\"Taze simit!\" \"Taze gevrek!\") since they are baked throughout the day; otherwise hot (\"S\\xc4\\xb1cak, s\\xc4\\xb1cak!\") and extremely hot (\"El yak\\xc4\\xb1yor!\" means \"It can burn your hand!\") when they are not long out of the oven. Simit is an important symbol for lower and middle-class people of Turkey. Sometimes it is called susam kebab\\xc4\\xb1 (\"sesame kebab\"). In other parts of the middle east it is consumed with boiled eggs and  or duggah which is a mixture of herbs used as condiments ,it is commonly used as a break of fast in holy makkah and Madeenah mosques with yougurt or buttermilk. Similar products Certain varieties of Romanian covrigi are similar to simit. Another type of bread similar to simit is known as obwarzanek (in particular obwarzanek krakowski) in Poland and bublik in Russia, Ukraine and Belarus. The main difference is that the rings of dough are poached briefly in boiling water prior to baking (similarly to bagels), instead of being dipped in water and molasses syrup, as is the case with simit. Girde (Uygur: \\xd0\\x93\\xd0\\xb8\\xd1\\x80\\xd0\\xb4\\xd0\\xb5), is a type of bread baked on the walls of tandoori oven, that is very similar to simit, and that the uygur t\\xc3\\xbcrks in China see as a characteristic item in their culture specific kitchen. See also Kaak Kandil simidi References'),\n",
       " (8181732,\n",
       "  'Lithuanian Footballer of the Year',\n",
       "  'Lithuanian Player of the Year is a football award. Winners 1965: Petras Glodenis ( \\xc5\\xbdalgiris Vilnius) 1966: Gintautas Kal\\xc4\\x97dinskas ( \\xc5\\xbdalgiris Vilnius) 1967: Stanislovas Ramelis ( \\xc5\\xbdalgiris Vilnius) 1968: Stanislovas Ramelis ( \\xc5\\xbdalgiris Vilnius) 1969: Juzefas Jurgelevi\\xc4\\x8dius ( \\xc5\\xbdalgiris Vilnius) 1970: Romualdas Ju\\xc5\\xa1ka ( \\xc5\\xbdalgiris Vilnius) 1971: Benjaminas Zelkevi\\xc4\\x8dius ( \\xc5\\xbdalgiris Vilnius) 1972: Benjaminas Zelkevi\\xc4\\x8dius ( \\xc5\\xbdalgiris Vilnius) 1973: Petras Glodenis ( \\xc5\\xbdalgiris Vilnius) 1974: Algirdas \\xc5\\xbdilinskas ( \\xc5\\xbdalgiris Vilnius) 1975: Vytautas Dirmeikis ( \\xc5\\xbdalgiris Vilnius) 1976: Eugenijus Riabovas ( \\xc5\\xbdalgiris Vilnius) 1977: Eugenijus Riabovas ( \\xc5\\xbdalgiris Vilnius) 1978: Eugenijus Riabovas ( \\xc5\\xbdalgiris Vilnius) 1979: Stanislovas Danisevi\\xc4\\x8dius ( \\xc5\\xbdalgiris Vilnius) 1980: Juzefas Jurgelevi\\xc4\\x8dius ( \\xc5\\xbdalgiris Vilnius) 1981: Vytautas Dirmeikis ( \\xc5\\xbdalgiris Vilnius) 1982: Sigitas Jakubauskas ( \\xc5\\xbdalgiris Vilnius) 1983: Valdas Kasparavi\\xc4\\x8dius ( \\xc5\\xbdalgiris Vilnius) 1984: Stanislovas Danisevi\\xc4\\x8dius ( \\xc5\\xbdalgiris Vilnius) 1988: Arminas Narbekovas ( \\xc5\\xbdalgiris Vilnius) 1989: Valdemaras Martink\\xc4\\x97nas ( \\xc5\\xbdalgiris Vilnius) 1990: Valdas Ivanauskas ( Austria Wien) 1991: Valdas Ivanauskas ( Austria Wien) 1992: Valdemaras Martink\\xc4\\x97nas ( Dynamo Kiev) 1993: Valdas Ivanauskas ( Hamburger SV) 1994: Valdas Ivanauskas ( Hamburger SV) 1995: Gintaras Stau\\xc4\\x8d\\xc4\\x97 ( Kar\\xc5\\x9f\\xc4\\xb1yaka SK) 1996: Gintaras Stau\\xc4\\x8d\\xc4\\x97 ( Sar\\xc4\\xb1yer GK) 1997: Edgaras Jankauskas ( Club Brugge) 1998: Edgaras Jankauskas ( Club Brugge) 1999: Saulius Mikalaj\\xc5\\xabnas ( Uralan Elista) 2000: Edgaras Jankauskas ( Real Sociedad) 2001: Edgaras Jankauskas ( Real Sociedad) 2002: Raimondas \\xc5\\xbdutautas ( Maccabi Haifa FC) 2003: Robertas Po\\xc5\\xa1kus ( Krylya Sovetov Samara) 2004: Edgaras Jankauskas ( OGC Nice) 2005: Deividas \\xc5\\xa0emberas ( PFC CSKA Moscow) 2006: Tomas Danilevi\\xc4\\x8dius ( AS Livorno Calcio) 2007: Tomas Danilevi\\xc4\\x8dius ( Bologna FC 1909) 2008: Marius Stankevi\\xc4\\x8dius ( UC Sampdoria) 2009: Marius Stankevi\\xc4\\x8dius ( UC Sampdoria) 2010: Darvydas \\xc5\\xa0ernas ( Widzew \\xc5\\x81\\xc3\\xb3d\\xc5\\xba) 2011: \\xc5\\xbdydr\\xc5\\xabnas Kar\\xc4\\x8demarskas ( Gaziantepspor) 2012: \\xc5\\xbdydr\\xc5\\xabnas Kar\\xc4\\x8demarskas ( Gaziantepspor) 2013: Mindaugas Kalonas ( Baku FC) 2014: Giedrius Arlauskis ( Steaua Bucure\\xc8\\x99ti) 2015: Lukas Spalvis ( Aalborg BK) 2016: Fiodor \\xc4\\x8cernych ( Jagiellonia Bia\\xc5\\x82ystok) External links uefa.com'),\n",
       " (13846997,\n",
       "  'Covin (automobile)',\n",
       "  'The Covin is a replica kit car of the Porsche 911 Turbo created by Tim Cook and Nick Vincent in the early 1980s. The name Covin came about from CO (Cook) and VIN (Vincent) giving us COVIN Performance Mouldings. Early models of the Covin were based on a shortened Beetle floorpan running gear but later used its own Covin chassis and VW Type 3 running gear. The company was sold in the 1990s to DAX and later moved to new owners GPC and was relocated to County Galway in Ireland where unfortunately up to now the Covin has not been produced again. The Covin came in 3 body styles all based on the Turbo model. These were, Flatnose and Coupe, both were also available in a convertible version. There is also known to be only one narrow body Covin ever made. Covin also produced a few 356 Speedster models but these are rather rare. Some Covin units even run real Porsche 911 engines. The Covin Club The Covin Owners Club is run by Darren Parker (Club Technical Adviser) & Club Secretary Michael Dykes. It is considered the best resource on the web for these vehicles. As of 2015 the Covin forum has 378 members, 24487 pots, covering 2762 topics. External links Covin website Covin Forum'),\n",
       " (16654048,\n",
       "  'Moldovan Footballer of the Year',\n",
       "  'Moldovan Footballer of the Year is an annual award to Moldovan footballer, organized by Football Association of Moldova. Players of the year Full rankings By titles Teams By position Coach of the year Other awards 2001 Best Goalkeeper Denis Romanenco (Zimbru Chi\\xc5\\x9fin\\xc4\\x83u) Best Defender Valeriu Cat\\xc3\\xaensus (Zimbru Chi\\xc5\\x9fin\\xc4\\x83u) Best Midfielder Sergiu Epureanu (Zimbru Chi\\xc5\\x9fin\\xc4\\x83u) Best Striker Ruslan Barburo\\xc8\\x99 (Sheriff) Fair play Tiligul Tiraspol 2004 Best Goalkeeper Sebastian Hu\\xc8\\x9ban (Sheriff) Best Defender Serghei La\\xc5\\x9fcencov (Nistru) Best Midfielder Iulian Bursuc (Nistru) Best Striker R\\xc4\\x83zvan Coci\\xc8\\x99 (Sheriff) Best female player Olga Tanscaia Best Futsal player Serghei Tacot Fair Play Sheriff Best Referee Valerii Sorochin 2005 Best Goalkeeper Serghei Pa\\xc8\\x99cenco (Sheriff) Best Defender Alexandru Epureanu (Sheriff) Best Midfielder Maxim Fran\\xc5\\xa3uz (Zimbru Chi\\xc5\\x9fin\\xc4\\x83u) Best Striker R\\xc4\\x83zvan Coci\\xc8\\x99 (Sheriff) 2007 Best Goalkeeper Nicolae Calancea (Zimbru Chi\\xc5\\x9fin\\xc4\\x83u) Best Defender Vazha Tarkhnishvili (Sheriff) Best Midfielder Nicolae Josan (Iskra-Stali) Best Striker Igor Picu\\xc8\\x99ceac (Tiraspol) Team of the year FC Dacia Chi\\xc5\\x9fin\\xc4\\x83u Fair Play Sheriff Best Referee Vyacheslav Banar References'),\n",
       " (18007329,\n",
       "  'List of karate terms',\n",
       "  'Karate terms come almost entirely from Japanese. The following terms are not exclusive to karate. They appear during its study and practice, varying depending on style and school. Karate terms include: C Chito-ryu D Dan \\xe2\\x80\\x93 Dojo G Gi \\xe2\\x80\\x93 Goju-ryu - H Hajime \\xe2\\x80\\x93 Heian K Karate \\xe2\\x80\\x93 Kata \\xe2\\x80\\x93 Kihon \\xe2\\x80\\x93 Kohai \\xe2\\x80\\x93 Kumite \\xe2\\x80\\x93 Ky\\xc5\\xab O Osu R Rei S Senpai \\xe2\\x80\\x93 Sensei \\xe2\\x80\\x93 Shihan \\xe2\\x80\\x93 Shotokan \\xe2\\x80\\x93 S\\xc5\\x8dke W Waza Z Zanshin See also References External links')]"
      ]
     },
     "execution_count": 85,
     "metadata": {},
     "output_type": "execute_result"
    }
   ],
   "source": [
    "db.select_pages([8181732, 16654048, 13846997, 18007329, 2904185], location='remote')"
   ]
  },
  {
   "cell_type": "code",
   "execution_count": null,
   "metadata": {
    "collapsed": true
   },
   "outputs": [],
   "source": []
  }
 ],
 "metadata": {
  "anaconda-cloud": {},
  "kernelspec": {
   "display_name": "Python [conda root]",
   "language": "python",
   "name": "conda-root-py"
  },
  "language_info": {
   "codemirror_mode": {
    "name": "ipython",
    "version": 2
   },
   "file_extension": ".py",
   "mimetype": "text/x-python",
   "name": "python",
   "nbconvert_exporter": "python",
   "pygments_lexer": "ipython2",
   "version": "2.7.12"
  }
 },
 "nbformat": 4,
 "nbformat_minor": 1
}
