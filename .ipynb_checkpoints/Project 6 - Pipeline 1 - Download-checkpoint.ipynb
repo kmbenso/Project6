{
 "cells": [
  {
   "cell_type": "markdown",
   "metadata": {
    "collapsed": true
   },
   "source": [
    "## Get categories to query from a yaml file"
   ]
  },
  {
   "cell_type": "code",
   "execution_count": 1,
   "metadata": {
    "collapsed": true
   },
   "outputs": [],
   "source": [
    "import pandas as pd\n",
    "import os\n",
    "os.chdir('/Users/karibenson/dsi/dsi-repo/DSI_SM_3/projects/project-06/')"
   ]
  },
  {
   "cell_type": "code",
   "execution_count": 4,
   "metadata": {
    "collapsed": false
   },
   "outputs": [],
   "source": [
    "import lib.database_module as db\n",
    "import lib.encoding_module as enc\n",
    "import lib.wiki_module as wiki "
   ]
  },
  {
   "cell_type": "code",
   "execution_count": 5,
   "metadata": {
    "collapsed": false
   },
   "outputs": [
    {
     "name": "stdout",
     "output_type": "stream",
     "text": [
      "Connected to server joshuacook.me.\n"
     ]
    }
   ],
   "source": [
    "conn, cur = db.connect_to_postgres()"
   ]
  },
  {
   "cell_type": "markdown",
   "metadata": {},
   "source": [
    "## Query Wikipedia by category for pages"
   ]
  },
  {
   "cell_type": "code",
   "execution_count": 6,
   "metadata": {
    "collapsed": true
   },
   "outputs": [],
   "source": [
    "import yaml"
   ]
  },
  {
   "cell_type": "code",
   "execution_count": 7,
   "metadata": {
    "collapsed": false
   },
   "outputs": [],
   "source": [
    "with open('/Users/karibenson/dsi/categories.yml') as yaml_file:\n",
    "    categories = yaml.load(yaml_file)"
   ]
  },
  {
   "cell_type": "code",
   "execution_count": 8,
   "metadata": {
    "collapsed": false
   },
   "outputs": [
    {
     "data": {
      "text/plain": [
       "{'category': ['cat breeds']}"
      ]
     },
     "execution_count": 8,
     "metadata": {},
     "output_type": "execute_result"
    }
   ],
   "source": [
    "categories"
   ]
  },
  {
   "cell_type": "markdown",
   "metadata": {},
   "source": [
    "## Write category info to database"
   ]
  },
  {
   "cell_type": "code",
   "execution_count": 9,
   "metadata": {
    "collapsed": false
   },
   "outputs": [],
   "source": [
    "responses = []\n",
    "for c in categories['category']:\n",
    "    response = wiki.query_category(c)\n",
    "    responses.append(response)\n",
    "    "
   ]
  },
  {
   "cell_type": "code",
   "execution_count": 10,
   "metadata": {
    "collapsed": false
   },
   "outputs": [
    {
     "data": {
      "text/plain": [
       "[{'categoryid': u'710421',\n",
       "  'pages': [{'pageid': 7199, 'title': 'List of cat breeds'},\n",
       "   {'pageid': 28660394, 'title': 'List of experimental cat breeds'},\n",
       "   {'pageid': 30875080, 'title': 'Abyssinian cat'},\n",
       "   {'pageid': 148839, 'title': 'American Bobtail'},\n",
       "   {'pageid': 70025, 'title': 'American Curl'},\n",
       "   {'pageid': 47185236, 'title': 'American Ringtail'},\n",
       "   {'pageid': 638469, 'title': 'American Shorthair'},\n",
       "   {'pageid': 2328963, 'title': 'American Wirehair'},\n",
       "   {'pageid': 35809078, 'title': 'Arabian Mau'},\n",
       "   {'pageid': 11444751, 'title': 'Asian cat'},\n",
       "   {'pageid': 3413387, 'title': 'Asian Semi-longhair'},\n",
       "   {'pageid': 63889, 'title': 'Australian Mist'},\n",
       "   {'pageid': 42964218, 'title': 'Balinese cat'},\n",
       "   {'pageid': 32389924, 'title': 'Bambino cat'},\n",
       "   {'pageid': 63064, 'title': 'Bengal cat'},\n",
       "   {'pageid': 146048, 'title': 'Birman'},\n",
       "   {'pageid': 638492, 'title': 'Bombay cat'},\n",
       "   {'pageid': 19031302, 'title': 'Brazilian Shorthair'},\n",
       "   {'pageid': 15178017, 'title': 'British Longhair'},\n",
       "   {'pageid': 45323, 'title': 'British Shorthair'},\n",
       "   {'pageid': 261787, 'title': 'Burmese cat'},\n",
       "   {'pageid': 1259546, 'title': 'Burmilla'},\n",
       "   {'pageid': 615214, 'title': 'California Spangled'},\n",
       "   {'pageid': 42963973, 'title': 'Cashmere cat'},\n",
       "   {'pageid': 1516202, 'title': 'Chantilly-Tiffany'},\n",
       "   {'pageid': 638548, 'title': 'Chartreux'},\n",
       "   {'pageid': 1022343, 'title': 'Chausie'},\n",
       "   {'pageid': 44345213, 'title': 'Cheetoh cat'},\n",
       "   {'pageid': 2570560, 'title': 'Colorpoint Shorthair'},\n",
       "   {'pageid': 63258, 'title': 'Cornish Rex'},\n",
       "   {'pageid': 145675, 'title': 'Cymric cat'},\n",
       "   {'pageid': 1065489, 'title': 'Donskoy cat'},\n",
       "   {'pageid': 19997444, 'title': 'Dragon Li'},\n",
       "   {'pageid': 386875, 'title': 'Egyptian Mau'},\n",
       "   {'pageid': 1158095, 'title': 'European Shorthair'},\n",
       "   {'pageid': 71025, 'title': 'Exotic Shorthair'},\n",
       "   {'pageid': 48575141, 'title': 'Foldex cat'},\n",
       "   {'pageid': 5495150, 'title': 'German Rex'},\n",
       "   {'pageid': 565399, 'title': 'Havana Brown'},\n",
       "   {'pageid': 38724655, 'title': 'Highlander cat'},\n",
       "   {'pageid': 146031, 'title': 'Himalayan cat'},\n",
       "   {'pageid': 38736227, 'title': 'Isle of Man Longhair'},\n",
       "   {'pageid': 38736231, 'title': 'Isle of Man Shorthair'},\n",
       "   {'pageid': 148843, 'title': 'Japanese Bobtail'},\n",
       "   {'pageid': 638898, 'title': 'Javanese cat'},\n",
       "   {'pageid': 27307256, 'title': 'Kashmir cat'},\n",
       "   {'pageid': 24030657, 'title': 'Khao Manee'},\n",
       "   {'pageid': 298906, 'title': 'Korat'},\n",
       "   {'pageid': 22279493, 'title': 'Kurilian Bobtail'},\n",
       "   {'pageid': 5387760, 'title': 'LaPerm'},\n",
       "   {'pageid': 42287415, 'title': 'Lykoi'},\n",
       "   {'pageid': 70024, 'title': 'Maine Coon'},\n",
       "   {'pageid': 145672, 'title': 'Manx cat'},\n",
       "   {'pageid': 51102656, 'title': 'Mexican Hairless Cat'},\n",
       "   {'pageid': 26130075, 'title': 'Minskin'},\n",
       "   {'pageid': 32745073, 'title': 'Minuet cat'},\n",
       "   {'pageid': 145780, 'title': 'Munchkin cat'},\n",
       "   {'pageid': 46910943, 'title': 'Napoleon cat'},\n",
       "   {'pageid': 173764, 'title': 'Nebelung'},\n",
       "   {'pageid': 173757, 'title': 'Norwegian Forest cat'},\n",
       "   {'pageid': 145785, 'title': 'Ocicat'},\n",
       "   {'pageid': 1136544, 'title': 'Ojos Azules'},\n",
       "   {'pageid': 20582289, 'title': 'Oregon Rex'},\n",
       "   {'pageid': 13807127, 'title': 'Oriental Bicolour'},\n",
       "   {'pageid': 2569354, 'title': 'Oriental Longhair'},\n",
       "   {'pageid': 639613, 'title': 'Oriental Shorthair'},\n",
       "   {'pageid': 33876998, 'title': 'Persian cat'},\n",
       "   {'pageid': 2769391, 'title': 'Peterbald'},\n",
       "   {'pageid': 51119983, 'title': 'Pittsburgh refrigerator cat'},\n",
       "   {'pageid': 963131, 'title': 'Pixie-bob'},\n",
       "   {'pageid': 43569735, 'title': 'Raas cat'},\n",
       "   {'pageid': 3055080, 'title': 'Ragamuffin cat'},\n",
       "   {'pageid': 610191, 'title': 'Ragdoll'},\n",
       "   {'pageid': 144792, 'title': 'Russian Blue'},\n",
       "   {'pageid': 12556065, 'title': 'Russian White, Black and Tabby'},\n",
       "   {'pageid': 49413741, 'title': 'Sam Sawet'},\n",
       "   {'pageid': 1954032, 'title': 'Savannah cat'},\n",
       "   {'pageid': 145684, 'title': 'Scottish Fold'},\n",
       "   {'pageid': 64022, 'title': 'Selkirk Rex'},\n",
       "   {'pageid': 2851028, 'title': 'Serengeti cat'},\n",
       "   {'pageid': 49413707, 'title': 'Serrade petit cat'},\n",
       "   {'pageid': 63087, 'title': 'Siamese cat'},\n",
       "   {'pageid': 639735, 'title': 'Siberian cat'},\n",
       "   {'pageid': 639747, 'title': 'Singapura cat'},\n",
       "   {'pageid': 9011815, 'title': 'Skookum cat'},\n",
       "   {'pageid': 799673, 'title': 'Snowshoe cat'},\n",
       "   {'pageid': 1034110, 'title': 'Sokoke'},\n",
       "   {'pageid': 148091, 'title': 'Somali cat'},\n",
       "   {'pageid': 64150, 'title': 'Sphynx cat'},\n",
       "   {'pageid': 46232331, 'title': 'Suphalak'},\n",
       "   {'pageid': 12150640, 'title': 'Thai cat'},\n",
       "   {'pageid': 31684693, 'title': 'Thai Lilac'},\n",
       "   {'pageid': 580880, 'title': 'Tonkinese cat'},\n",
       "   {'pageid': 2884695, 'title': 'Toyger'},\n",
       "   {'pageid': 30456458, 'title': 'Traditional Persian'},\n",
       "   {'pageid': 50040691, 'title': 'Traditional Siamese cat'},\n",
       "   {'pageid': 639754, 'title': 'Turkish Angora'},\n",
       "   {'pageid': 17353018, 'title': 'Ukrainian Levkoy'},\n",
       "   {'pageid': 63895, 'title': 'York Chocolate'}]}]"
      ]
     },
     "execution_count": 10,
     "metadata": {},
     "output_type": "execute_result"
    }
   ],
   "source": [
    "responses"
   ]
  },
  {
   "cell_type": "code",
   "execution_count": 11,
   "metadata": {
    "collapsed": false
   },
   "outputs": [
    {
     "data": {
      "text/html": [
       "<div>\n",
       "<table border=\"1\" class=\"dataframe\">\n",
       "  <thead>\n",
       "    <tr style=\"text-align: right;\">\n",
       "      <th></th>\n",
       "      <th>categoryid</th>\n",
       "      <th>pages</th>\n",
       "    </tr>\n",
       "  </thead>\n",
       "  <tbody>\n",
       "    <tr>\n",
       "      <th>0</th>\n",
       "      <td>710421</td>\n",
       "      <td>{u'pageid': 7199, u'title': u'List of cat bree...</td>\n",
       "    </tr>\n",
       "    <tr>\n",
       "      <th>1</th>\n",
       "      <td>710421</td>\n",
       "      <td>{u'pageid': 28660394, u'title': u'List of expe...</td>\n",
       "    </tr>\n",
       "    <tr>\n",
       "      <th>2</th>\n",
       "      <td>710421</td>\n",
       "      <td>{u'pageid': 30875080, u'title': u'Abyssinian c...</td>\n",
       "    </tr>\n",
       "    <tr>\n",
       "      <th>3</th>\n",
       "      <td>710421</td>\n",
       "      <td>{u'pageid': 148839, u'title': u'American Bobta...</td>\n",
       "    </tr>\n",
       "    <tr>\n",
       "      <th>4</th>\n",
       "      <td>710421</td>\n",
       "      <td>{u'pageid': 70025, u'title': u'American Curl'}</td>\n",
       "    </tr>\n",
       "  </tbody>\n",
       "</table>\n",
       "</div>"
      ],
      "text/plain": [
       "  categoryid                                              pages\n",
       "0     710421  {u'pageid': 7199, u'title': u'List of cat bree...\n",
       "1     710421  {u'pageid': 28660394, u'title': u'List of expe...\n",
       "2     710421  {u'pageid': 30875080, u'title': u'Abyssinian c...\n",
       "3     710421  {u'pageid': 148839, u'title': u'American Bobta...\n",
       "4     710421     {u'pageid': 70025, u'title': u'American Curl'}"
      ]
     },
     "execution_count": 11,
     "metadata": {},
     "output_type": "execute_result"
    }
   ],
   "source": [
    "responses_df = pd.concat([pd.DataFrame(response)\n",
    "                         for response in responses])\n",
    "responses_df.head()"
   ]
  },
  {
   "cell_type": "code",
   "execution_count": 12,
   "metadata": {
    "collapsed": false
   },
   "outputs": [
    {
     "data": {
      "text/plain": [
       "[u'710421']"
      ]
     },
     "execution_count": 12,
     "metadata": {},
     "output_type": "execute_result"
    }
   ],
   "source": [
    "cat_ids = [response['categoryid'] for response in responses]\n",
    "cat_ids"
   ]
  },
  {
   "cell_type": "code",
   "execution_count": 13,
   "metadata": {
    "collapsed": false,
    "scrolled": true
   },
   "outputs": [
    {
     "data": {
      "text/html": [
       "<div>\n",
       "<table border=\"1\" class=\"dataframe\">\n",
       "  <thead>\n",
       "    <tr style=\"text-align: right;\">\n",
       "      <th></th>\n",
       "      <th>pageid</th>\n",
       "      <th>title</th>\n",
       "    </tr>\n",
       "  </thead>\n",
       "  <tbody>\n",
       "    <tr>\n",
       "      <th>0</th>\n",
       "      <td>7199</td>\n",
       "      <td>List of cat breeds</td>\n",
       "    </tr>\n",
       "    <tr>\n",
       "      <th>1</th>\n",
       "      <td>28660394</td>\n",
       "      <td>List of experimental cat breeds</td>\n",
       "    </tr>\n",
       "    <tr>\n",
       "      <th>2</th>\n",
       "      <td>30875080</td>\n",
       "      <td>Abyssinian cat</td>\n",
       "    </tr>\n",
       "    <tr>\n",
       "      <th>3</th>\n",
       "      <td>148839</td>\n",
       "      <td>American Bobtail</td>\n",
       "    </tr>\n",
       "    <tr>\n",
       "      <th>4</th>\n",
       "      <td>70025</td>\n",
       "      <td>American Curl</td>\n",
       "    </tr>\n",
       "    <tr>\n",
       "      <th>5</th>\n",
       "      <td>47185236</td>\n",
       "      <td>American Ringtail</td>\n",
       "    </tr>\n",
       "    <tr>\n",
       "      <th>6</th>\n",
       "      <td>638469</td>\n",
       "      <td>American Shorthair</td>\n",
       "    </tr>\n",
       "    <tr>\n",
       "      <th>7</th>\n",
       "      <td>2328963</td>\n",
       "      <td>American Wirehair</td>\n",
       "    </tr>\n",
       "    <tr>\n",
       "      <th>8</th>\n",
       "      <td>35809078</td>\n",
       "      <td>Arabian Mau</td>\n",
       "    </tr>\n",
       "    <tr>\n",
       "      <th>9</th>\n",
       "      <td>11444751</td>\n",
       "      <td>Asian cat</td>\n",
       "    </tr>\n",
       "    <tr>\n",
       "      <th>10</th>\n",
       "      <td>3413387</td>\n",
       "      <td>Asian Semi-longhair</td>\n",
       "    </tr>\n",
       "    <tr>\n",
       "      <th>11</th>\n",
       "      <td>63889</td>\n",
       "      <td>Australian Mist</td>\n",
       "    </tr>\n",
       "    <tr>\n",
       "      <th>12</th>\n",
       "      <td>42964218</td>\n",
       "      <td>Balinese cat</td>\n",
       "    </tr>\n",
       "    <tr>\n",
       "      <th>13</th>\n",
       "      <td>32389924</td>\n",
       "      <td>Bambino cat</td>\n",
       "    </tr>\n",
       "    <tr>\n",
       "      <th>14</th>\n",
       "      <td>63064</td>\n",
       "      <td>Bengal cat</td>\n",
       "    </tr>\n",
       "    <tr>\n",
       "      <th>15</th>\n",
       "      <td>146048</td>\n",
       "      <td>Birman</td>\n",
       "    </tr>\n",
       "    <tr>\n",
       "      <th>16</th>\n",
       "      <td>638492</td>\n",
       "      <td>Bombay cat</td>\n",
       "    </tr>\n",
       "    <tr>\n",
       "      <th>17</th>\n",
       "      <td>19031302</td>\n",
       "      <td>Brazilian Shorthair</td>\n",
       "    </tr>\n",
       "    <tr>\n",
       "      <th>18</th>\n",
       "      <td>15178017</td>\n",
       "      <td>British Longhair</td>\n",
       "    </tr>\n",
       "    <tr>\n",
       "      <th>19</th>\n",
       "      <td>45323</td>\n",
       "      <td>British Shorthair</td>\n",
       "    </tr>\n",
       "    <tr>\n",
       "      <th>20</th>\n",
       "      <td>261787</td>\n",
       "      <td>Burmese cat</td>\n",
       "    </tr>\n",
       "    <tr>\n",
       "      <th>21</th>\n",
       "      <td>1259546</td>\n",
       "      <td>Burmilla</td>\n",
       "    </tr>\n",
       "    <tr>\n",
       "      <th>22</th>\n",
       "      <td>615214</td>\n",
       "      <td>California Spangled</td>\n",
       "    </tr>\n",
       "    <tr>\n",
       "      <th>23</th>\n",
       "      <td>42963973</td>\n",
       "      <td>Cashmere cat</td>\n",
       "    </tr>\n",
       "    <tr>\n",
       "      <th>24</th>\n",
       "      <td>1516202</td>\n",
       "      <td>Chantilly-Tiffany</td>\n",
       "    </tr>\n",
       "    <tr>\n",
       "      <th>25</th>\n",
       "      <td>638548</td>\n",
       "      <td>Chartreux</td>\n",
       "    </tr>\n",
       "    <tr>\n",
       "      <th>26</th>\n",
       "      <td>1022343</td>\n",
       "      <td>Chausie</td>\n",
       "    </tr>\n",
       "    <tr>\n",
       "      <th>27</th>\n",
       "      <td>44345213</td>\n",
       "      <td>Cheetoh cat</td>\n",
       "    </tr>\n",
       "    <tr>\n",
       "      <th>28</th>\n",
       "      <td>2570560</td>\n",
       "      <td>Colorpoint Shorthair</td>\n",
       "    </tr>\n",
       "    <tr>\n",
       "      <th>29</th>\n",
       "      <td>63258</td>\n",
       "      <td>Cornish Rex</td>\n",
       "    </tr>\n",
       "    <tr>\n",
       "      <th>...</th>\n",
       "      <td>...</td>\n",
       "      <td>...</td>\n",
       "    </tr>\n",
       "    <tr>\n",
       "      <th>69</th>\n",
       "      <td>963131</td>\n",
       "      <td>Pixie-bob</td>\n",
       "    </tr>\n",
       "    <tr>\n",
       "      <th>70</th>\n",
       "      <td>43569735</td>\n",
       "      <td>Raas cat</td>\n",
       "    </tr>\n",
       "    <tr>\n",
       "      <th>71</th>\n",
       "      <td>3055080</td>\n",
       "      <td>Ragamuffin cat</td>\n",
       "    </tr>\n",
       "    <tr>\n",
       "      <th>72</th>\n",
       "      <td>610191</td>\n",
       "      <td>Ragdoll</td>\n",
       "    </tr>\n",
       "    <tr>\n",
       "      <th>73</th>\n",
       "      <td>144792</td>\n",
       "      <td>Russian Blue</td>\n",
       "    </tr>\n",
       "    <tr>\n",
       "      <th>74</th>\n",
       "      <td>12556065</td>\n",
       "      <td>Russian White, Black and Tabby</td>\n",
       "    </tr>\n",
       "    <tr>\n",
       "      <th>75</th>\n",
       "      <td>49413741</td>\n",
       "      <td>Sam Sawet</td>\n",
       "    </tr>\n",
       "    <tr>\n",
       "      <th>76</th>\n",
       "      <td>1954032</td>\n",
       "      <td>Savannah cat</td>\n",
       "    </tr>\n",
       "    <tr>\n",
       "      <th>77</th>\n",
       "      <td>145684</td>\n",
       "      <td>Scottish Fold</td>\n",
       "    </tr>\n",
       "    <tr>\n",
       "      <th>78</th>\n",
       "      <td>64022</td>\n",
       "      <td>Selkirk Rex</td>\n",
       "    </tr>\n",
       "    <tr>\n",
       "      <th>79</th>\n",
       "      <td>2851028</td>\n",
       "      <td>Serengeti cat</td>\n",
       "    </tr>\n",
       "    <tr>\n",
       "      <th>80</th>\n",
       "      <td>49413707</td>\n",
       "      <td>Serrade petit cat</td>\n",
       "    </tr>\n",
       "    <tr>\n",
       "      <th>81</th>\n",
       "      <td>63087</td>\n",
       "      <td>Siamese cat</td>\n",
       "    </tr>\n",
       "    <tr>\n",
       "      <th>82</th>\n",
       "      <td>639735</td>\n",
       "      <td>Siberian cat</td>\n",
       "    </tr>\n",
       "    <tr>\n",
       "      <th>83</th>\n",
       "      <td>639747</td>\n",
       "      <td>Singapura cat</td>\n",
       "    </tr>\n",
       "    <tr>\n",
       "      <th>84</th>\n",
       "      <td>9011815</td>\n",
       "      <td>Skookum cat</td>\n",
       "    </tr>\n",
       "    <tr>\n",
       "      <th>85</th>\n",
       "      <td>799673</td>\n",
       "      <td>Snowshoe cat</td>\n",
       "    </tr>\n",
       "    <tr>\n",
       "      <th>86</th>\n",
       "      <td>1034110</td>\n",
       "      <td>Sokoke</td>\n",
       "    </tr>\n",
       "    <tr>\n",
       "      <th>87</th>\n",
       "      <td>148091</td>\n",
       "      <td>Somali cat</td>\n",
       "    </tr>\n",
       "    <tr>\n",
       "      <th>88</th>\n",
       "      <td>64150</td>\n",
       "      <td>Sphynx cat</td>\n",
       "    </tr>\n",
       "    <tr>\n",
       "      <th>89</th>\n",
       "      <td>46232331</td>\n",
       "      <td>Suphalak</td>\n",
       "    </tr>\n",
       "    <tr>\n",
       "      <th>90</th>\n",
       "      <td>12150640</td>\n",
       "      <td>Thai cat</td>\n",
       "    </tr>\n",
       "    <tr>\n",
       "      <th>91</th>\n",
       "      <td>31684693</td>\n",
       "      <td>Thai Lilac</td>\n",
       "    </tr>\n",
       "    <tr>\n",
       "      <th>92</th>\n",
       "      <td>580880</td>\n",
       "      <td>Tonkinese cat</td>\n",
       "    </tr>\n",
       "    <tr>\n",
       "      <th>93</th>\n",
       "      <td>2884695</td>\n",
       "      <td>Toyger</td>\n",
       "    </tr>\n",
       "    <tr>\n",
       "      <th>94</th>\n",
       "      <td>30456458</td>\n",
       "      <td>Traditional Persian</td>\n",
       "    </tr>\n",
       "    <tr>\n",
       "      <th>95</th>\n",
       "      <td>50040691</td>\n",
       "      <td>Traditional Siamese cat</td>\n",
       "    </tr>\n",
       "    <tr>\n",
       "      <th>96</th>\n",
       "      <td>639754</td>\n",
       "      <td>Turkish Angora</td>\n",
       "    </tr>\n",
       "    <tr>\n",
       "      <th>97</th>\n",
       "      <td>17353018</td>\n",
       "      <td>Ukrainian Levkoy</td>\n",
       "    </tr>\n",
       "    <tr>\n",
       "      <th>98</th>\n",
       "      <td>63895</td>\n",
       "      <td>York Chocolate</td>\n",
       "    </tr>\n",
       "  </tbody>\n",
       "</table>\n",
       "<p>99 rows × 2 columns</p>\n",
       "</div>"
      ],
      "text/plain": [
       "      pageid                            title\n",
       "0       7199               List of cat breeds\n",
       "1   28660394  List of experimental cat breeds\n",
       "2   30875080                   Abyssinian cat\n",
       "3     148839                 American Bobtail\n",
       "4      70025                    American Curl\n",
       "5   47185236                American Ringtail\n",
       "6     638469               American Shorthair\n",
       "7    2328963                American Wirehair\n",
       "8   35809078                      Arabian Mau\n",
       "9   11444751                        Asian cat\n",
       "10   3413387              Asian Semi-longhair\n",
       "11     63889                  Australian Mist\n",
       "12  42964218                     Balinese cat\n",
       "13  32389924                      Bambino cat\n",
       "14     63064                       Bengal cat\n",
       "15    146048                           Birman\n",
       "16    638492                       Bombay cat\n",
       "17  19031302              Brazilian Shorthair\n",
       "18  15178017                 British Longhair\n",
       "19     45323                British Shorthair\n",
       "20    261787                      Burmese cat\n",
       "21   1259546                         Burmilla\n",
       "22    615214              California Spangled\n",
       "23  42963973                     Cashmere cat\n",
       "24   1516202                Chantilly-Tiffany\n",
       "25    638548                        Chartreux\n",
       "26   1022343                          Chausie\n",
       "27  44345213                      Cheetoh cat\n",
       "28   2570560             Colorpoint Shorthair\n",
       "29     63258                      Cornish Rex\n",
       "..       ...                              ...\n",
       "69    963131                        Pixie-bob\n",
       "70  43569735                         Raas cat\n",
       "71   3055080                   Ragamuffin cat\n",
       "72    610191                          Ragdoll\n",
       "73    144792                     Russian Blue\n",
       "74  12556065   Russian White, Black and Tabby\n",
       "75  49413741                        Sam Sawet\n",
       "76   1954032                     Savannah cat\n",
       "77    145684                    Scottish Fold\n",
       "78     64022                      Selkirk Rex\n",
       "79   2851028                    Serengeti cat\n",
       "80  49413707                Serrade petit cat\n",
       "81     63087                      Siamese cat\n",
       "82    639735                     Siberian cat\n",
       "83    639747                    Singapura cat\n",
       "84   9011815                      Skookum cat\n",
       "85    799673                     Snowshoe cat\n",
       "86   1034110                           Sokoke\n",
       "87    148091                       Somali cat\n",
       "88     64150                       Sphynx cat\n",
       "89  46232331                         Suphalak\n",
       "90  12150640                         Thai cat\n",
       "91  31684693                       Thai Lilac\n",
       "92    580880                    Tonkinese cat\n",
       "93   2884695                           Toyger\n",
       "94  30456458              Traditional Persian\n",
       "95  50040691          Traditional Siamese cat\n",
       "96    639754                   Turkish Angora\n",
       "97  17353018                 Ukrainian Levkoy\n",
       "98     63895                   York Chocolate\n",
       "\n",
       "[99 rows x 2 columns]"
      ]
     },
     "execution_count": 13,
     "metadata": {},
     "output_type": "execute_result"
    }
   ],
   "source": [
    "pd.DataFrame(responses[0]['pages'])"
   ]
  },
  {
   "cell_type": "code",
   "execution_count": 14,
   "metadata": {
    "collapsed": false
   },
   "outputs": [
    {
     "data": {
      "text/plain": [
       "[u'710421']"
      ]
     },
     "execution_count": 14,
     "metadata": {},
     "output_type": "execute_result"
    }
   ],
   "source": [
    "cat_ids = [response['categoryid'] for response in responses]\n",
    "cat_ids"
   ]
  },
  {
   "cell_type": "code",
   "execution_count": 15,
   "metadata": {
    "collapsed": false
   },
   "outputs": [
    {
     "data": {
      "text/plain": [
       "[('cat breeds', u'710421')]"
      ]
     },
     "execution_count": 15,
     "metadata": {},
     "output_type": "execute_result"
    }
   ],
   "source": [
    "zipped = zip(categories['category'], cat_ids)\n",
    "zipped"
   ]
  },
  {
   "cell_type": "code",
   "execution_count": 16,
   "metadata": {
    "collapsed": false
   },
   "outputs": [
    {
     "name": "stdout",
     "output_type": "stream",
     "text": [
      "('cat breeds', u'710421')\n",
      "Connected to server joshuacook.me.\n"
     ]
    }
   ],
   "source": [
    "for cat in zip(categories['category'], cat_ids):\n",
    "    print(cat)\n",
    "    db.create_or_update_category_in_database(cat[1], cat[0])"
   ]
  },
  {
   "cell_type": "markdown",
   "metadata": {},
   "source": [
    "## Query Wikipedia by page id for content"
   ]
  },
  {
   "cell_type": "code",
   "execution_count": 19,
   "metadata": {
    "collapsed": false
   },
   "outputs": [],
   "source": [
    "page_response = wiki.query_page('7199','List of cat breeds')"
   ]
  },
  {
   "cell_type": "code",
   "execution_count": 20,
   "metadata": {
    "collapsed": false
   },
   "outputs": [
    {
     "data": {
      "text/plain": [
       "['pageid', 'title', 'summary', 'text', 'html']"
      ]
     },
     "execution_count": 20,
     "metadata": {},
     "output_type": "execute_result"
    }
   ],
   "source": [
    "page_response.keys()"
   ]
  },
  {
   "cell_type": "code",
   "execution_count": 21,
   "metadata": {
    "collapsed": false
   },
   "outputs": [
    {
     "data": {
      "text/plain": [
       "{'categoryid': u'710421',\n",
       " 'pages': [{'pageid': 7199, 'title': 'List of cat breeds'},\n",
       "  {'pageid': 28660394, 'title': 'List of experimental cat breeds'},\n",
       "  {'pageid': 30875080, 'title': 'Abyssinian cat'},\n",
       "  {'pageid': 148839, 'title': 'American Bobtail'},\n",
       "  {'pageid': 70025, 'title': 'American Curl'},\n",
       "  {'pageid': 47185236, 'title': 'American Ringtail'},\n",
       "  {'pageid': 638469, 'title': 'American Shorthair'},\n",
       "  {'pageid': 2328963, 'title': 'American Wirehair'},\n",
       "  {'pageid': 35809078, 'title': 'Arabian Mau'},\n",
       "  {'pageid': 11444751, 'title': 'Asian cat'},\n",
       "  {'pageid': 3413387, 'title': 'Asian Semi-longhair'},\n",
       "  {'pageid': 63889, 'title': 'Australian Mist'},\n",
       "  {'pageid': 42964218, 'title': 'Balinese cat'},\n",
       "  {'pageid': 32389924, 'title': 'Bambino cat'},\n",
       "  {'pageid': 63064, 'title': 'Bengal cat'},\n",
       "  {'pageid': 146048, 'title': 'Birman'},\n",
       "  {'pageid': 638492, 'title': 'Bombay cat'},\n",
       "  {'pageid': 19031302, 'title': 'Brazilian Shorthair'},\n",
       "  {'pageid': 15178017, 'title': 'British Longhair'},\n",
       "  {'pageid': 45323, 'title': 'British Shorthair'},\n",
       "  {'pageid': 261787, 'title': 'Burmese cat'},\n",
       "  {'pageid': 1259546, 'title': 'Burmilla'},\n",
       "  {'pageid': 615214, 'title': 'California Spangled'},\n",
       "  {'pageid': 42963973, 'title': 'Cashmere cat'},\n",
       "  {'pageid': 1516202, 'title': 'Chantilly-Tiffany'},\n",
       "  {'pageid': 638548, 'title': 'Chartreux'},\n",
       "  {'pageid': 1022343, 'title': 'Chausie'},\n",
       "  {'pageid': 44345213, 'title': 'Cheetoh cat'},\n",
       "  {'pageid': 2570560, 'title': 'Colorpoint Shorthair'},\n",
       "  {'pageid': 63258, 'title': 'Cornish Rex'},\n",
       "  {'pageid': 145675, 'title': 'Cymric cat'},\n",
       "  {'pageid': 1065489, 'title': 'Donskoy cat'},\n",
       "  {'pageid': 19997444, 'title': 'Dragon Li'},\n",
       "  {'pageid': 386875, 'title': 'Egyptian Mau'},\n",
       "  {'pageid': 1158095, 'title': 'European Shorthair'},\n",
       "  {'pageid': 71025, 'title': 'Exotic Shorthair'},\n",
       "  {'pageid': 48575141, 'title': 'Foldex cat'},\n",
       "  {'pageid': 5495150, 'title': 'German Rex'},\n",
       "  {'pageid': 565399, 'title': 'Havana Brown'},\n",
       "  {'pageid': 38724655, 'title': 'Highlander cat'},\n",
       "  {'pageid': 146031, 'title': 'Himalayan cat'},\n",
       "  {'pageid': 38736227, 'title': 'Isle of Man Longhair'},\n",
       "  {'pageid': 38736231, 'title': 'Isle of Man Shorthair'},\n",
       "  {'pageid': 148843, 'title': 'Japanese Bobtail'},\n",
       "  {'pageid': 638898, 'title': 'Javanese cat'},\n",
       "  {'pageid': 27307256, 'title': 'Kashmir cat'},\n",
       "  {'pageid': 24030657, 'title': 'Khao Manee'},\n",
       "  {'pageid': 298906, 'title': 'Korat'},\n",
       "  {'pageid': 22279493, 'title': 'Kurilian Bobtail'},\n",
       "  {'pageid': 5387760, 'title': 'LaPerm'},\n",
       "  {'pageid': 42287415, 'title': 'Lykoi'},\n",
       "  {'pageid': 70024, 'title': 'Maine Coon'},\n",
       "  {'pageid': 145672, 'title': 'Manx cat'},\n",
       "  {'pageid': 51102656, 'title': 'Mexican Hairless Cat'},\n",
       "  {'pageid': 26130075, 'title': 'Minskin'},\n",
       "  {'pageid': 32745073, 'title': 'Minuet cat'},\n",
       "  {'pageid': 145780, 'title': 'Munchkin cat'},\n",
       "  {'pageid': 46910943, 'title': 'Napoleon cat'},\n",
       "  {'pageid': 173764, 'title': 'Nebelung'},\n",
       "  {'pageid': 173757, 'title': 'Norwegian Forest cat'},\n",
       "  {'pageid': 145785, 'title': 'Ocicat'},\n",
       "  {'pageid': 1136544, 'title': 'Ojos Azules'},\n",
       "  {'pageid': 20582289, 'title': 'Oregon Rex'},\n",
       "  {'pageid': 13807127, 'title': 'Oriental Bicolour'},\n",
       "  {'pageid': 2569354, 'title': 'Oriental Longhair'},\n",
       "  {'pageid': 639613, 'title': 'Oriental Shorthair'},\n",
       "  {'pageid': 33876998, 'title': 'Persian cat'},\n",
       "  {'pageid': 2769391, 'title': 'Peterbald'},\n",
       "  {'pageid': 51119983, 'title': 'Pittsburgh refrigerator cat'},\n",
       "  {'pageid': 963131, 'title': 'Pixie-bob'},\n",
       "  {'pageid': 43569735, 'title': 'Raas cat'},\n",
       "  {'pageid': 3055080, 'title': 'Ragamuffin cat'},\n",
       "  {'pageid': 610191, 'title': 'Ragdoll'},\n",
       "  {'pageid': 144792, 'title': 'Russian Blue'},\n",
       "  {'pageid': 12556065, 'title': 'Russian White, Black and Tabby'},\n",
       "  {'pageid': 49413741, 'title': 'Sam Sawet'},\n",
       "  {'pageid': 1954032, 'title': 'Savannah cat'},\n",
       "  {'pageid': 145684, 'title': 'Scottish Fold'},\n",
       "  {'pageid': 64022, 'title': 'Selkirk Rex'},\n",
       "  {'pageid': 2851028, 'title': 'Serengeti cat'},\n",
       "  {'pageid': 49413707, 'title': 'Serrade petit cat'},\n",
       "  {'pageid': 63087, 'title': 'Siamese cat'},\n",
       "  {'pageid': 639735, 'title': 'Siberian cat'},\n",
       "  {'pageid': 639747, 'title': 'Singapura cat'},\n",
       "  {'pageid': 9011815, 'title': 'Skookum cat'},\n",
       "  {'pageid': 799673, 'title': 'Snowshoe cat'},\n",
       "  {'pageid': 1034110, 'title': 'Sokoke'},\n",
       "  {'pageid': 148091, 'title': 'Somali cat'},\n",
       "  {'pageid': 64150, 'title': 'Sphynx cat'},\n",
       "  {'pageid': 46232331, 'title': 'Suphalak'},\n",
       "  {'pageid': 12150640, 'title': 'Thai cat'},\n",
       "  {'pageid': 31684693, 'title': 'Thai Lilac'},\n",
       "  {'pageid': 580880, 'title': 'Tonkinese cat'},\n",
       "  {'pageid': 2884695, 'title': 'Toyger'},\n",
       "  {'pageid': 30456458, 'title': 'Traditional Persian'},\n",
       "  {'pageid': 50040691, 'title': 'Traditional Siamese cat'},\n",
       "  {'pageid': 639754, 'title': 'Turkish Angora'},\n",
       "  {'pageid': 17353018, 'title': 'Ukrainian Levkoy'},\n",
       "  {'pageid': 63895, 'title': 'York Chocolate'}]}"
      ]
     },
     "execution_count": 21,
     "metadata": {},
     "output_type": "execute_result"
    }
   ],
   "source": [
    "responses[0]"
   ]
  },
  {
   "cell_type": "markdown",
   "metadata": {},
   "source": [
    "## Write page content to database"
   ]
  },
  {
   "cell_type": "code",
   "execution_count": 28,
   "metadata": {
    "collapsed": false
   },
   "outputs": [
    {
     "name": "stdout",
     "output_type": "stream",
     "text": [
      "Connected to server joshuacook.me.\n",
      "Connected to server joshuacook.me.\n",
      "Connected to server joshuacook.me.\n",
      "Connected to server joshuacook.me.\n",
      "Connected to server joshuacook.me.\n",
      "Connected to server joshuacook.me.\n",
      "Connected to server joshuacook.me.\n",
      "Connected to server joshuacook.me.\n",
      "Connected to server joshuacook.me.\n",
      "Connected to server joshuacook.me.\n",
      "Connected to server joshuacook.me.\n",
      "Connected to server joshuacook.me.\n",
      "Connected to server joshuacook.me.\n",
      "Connected to server joshuacook.me.\n",
      "Connected to server joshuacook.me.\n",
      "Connected to server joshuacook.me.\n",
      "Connected to server joshuacook.me.\n",
      "Connected to server joshuacook.me.\n",
      "Connected to server joshuacook.me.\n",
      "Connected to server joshuacook.me.\n",
      "Connected to server joshuacook.me.\n",
      "Connected to server joshuacook.me.\n",
      "Connected to server joshuacook.me.\n",
      "Connected to server joshuacook.me.\n",
      "Connected to server joshuacook.me.\n",
      "Connected to server joshuacook.me.\n",
      "Connected to server joshuacook.me.\n",
      "Connected to server joshuacook.me.\n",
      "Connected to server joshuacook.me.\n",
      "Connected to server joshuacook.me.\n",
      "Connected to server joshuacook.me.\n",
      "Connected to server joshuacook.me.\n",
      "Connected to server joshuacook.me.\n",
      "Connected to server joshuacook.me.\n",
      "Connected to server joshuacook.me.\n",
      "Connected to server joshuacook.me.\n",
      "Connected to server joshuacook.me.\n",
      "Connected to server joshuacook.me.\n",
      "Connected to server joshuacook.me.\n",
      "Connected to server joshuacook.me.\n",
      "Connected to server joshuacook.me.\n",
      "Connected to server joshuacook.me.\n",
      "Connected to server joshuacook.me.\n",
      "Connected to server joshuacook.me.\n",
      "Connected to server joshuacook.me.\n",
      "Connected to server joshuacook.me.\n",
      "Connected to server joshuacook.me.\n",
      "Connected to server joshuacook.me.\n",
      "Connected to server joshuacook.me.\n",
      "Connected to server joshuacook.me.\n",
      "Connected to server joshuacook.me.\n",
      "Connected to server joshuacook.me.\n",
      "Connected to server joshuacook.me.\n",
      "Connected to server joshuacook.me.\n",
      "Connected to server joshuacook.me.\n",
      "Connected to server joshuacook.me.\n",
      "Connected to server joshuacook.me.\n",
      "Connected to server joshuacook.me.\n",
      "Connected to server joshuacook.me.\n",
      "Connected to server joshuacook.me.\n",
      "Connected to server joshuacook.me.\n",
      "Connected to server joshuacook.me.\n",
      "Connected to server joshuacook.me.\n",
      "Connected to server joshuacook.me.\n",
      "Connected to server joshuacook.me.\n",
      "Connected to server joshuacook.me.\n",
      "Connected to server joshuacook.me.\n",
      "Connected to server joshuacook.me.\n",
      "Connected to server joshuacook.me.\n",
      "Connected to server joshuacook.me.\n",
      "Connected to server joshuacook.me.\n",
      "Connected to server joshuacook.me.\n",
      "Connected to server joshuacook.me.\n",
      "Connected to server joshuacook.me.\n",
      "Connected to server joshuacook.me.\n",
      "Connected to server joshuacook.me.\n",
      "Connected to server joshuacook.me.\n",
      "Connected to server joshuacook.me.\n",
      "Connected to server joshuacook.me.\n",
      "Connected to server joshuacook.me.\n",
      "Connected to server joshuacook.me.\n",
      "Connected to server joshuacook.me.\n",
      "Connected to server joshuacook.me.\n",
      "Connected to server joshuacook.me.\n",
      "Connected to server joshuacook.me.\n",
      "Connected to server joshuacook.me.\n",
      "Connected to server joshuacook.me.\n",
      "Connected to server joshuacook.me.\n",
      "Connected to server joshuacook.me.\n",
      "Connected to server joshuacook.me.\n",
      "Connected to server joshuacook.me.\n",
      "Connected to server joshuacook.me.\n",
      "Connected to server joshuacook.me.\n",
      "Connected to server joshuacook.me.\n",
      "Connected to server joshuacook.me.\n",
      "Connected to server joshuacook.me.\n",
      "Connected to server joshuacook.me.\n",
      "Connected to server joshuacook.me.\n",
      "Connected to server joshuacook.me.\n"
     ]
    }
   ],
   "source": [
    "response = wiki.query_category(\"cat breeds\")\n",
    "for page in response['pages']:\n",
    "    db.create_or_update_page_in_database(page['pageid'],710421,page['title'],\n",
    "                                         wiki.query_page(str(page['pageid']),page['title'])['text'])"
   ]
  },
  {
   "cell_type": "markdown",
   "metadata": {},
   "source": [
    "##  Encode page as document vectors \n"
   ]
  },
  {
   "cell_type": "code",
   "execution_count": 23,
   "metadata": {
    "collapsed": false,
    "scrolled": true
   },
   "outputs": [
    {
     "name": "stdout",
     "output_type": "stream",
     "text": [
      "Connected to server joshuacook.me.\n"
     ]
    },
    {
     "data": {
      "text/plain": [
       "(<connection object at 0x114046d60; dsn: 'user=kari password=xxxxx roll correctly police' host=joshuacook.me port=5432 dbname=project_6', closed: 0>,\n",
       " <cursor object at 0x110a97620; closed: 0>)"
      ]
     },
     "execution_count": 23,
     "metadata": {},
     "output_type": "execute_result"
    }
   ],
   "source": [
    "db.connect_to_postgres()"
   ]
  },
  {
   "cell_type": "code",
   "execution_count": 26,
   "metadata": {
    "collapsed": false
   },
   "outputs": [
    {
     "name": "stdout",
     "output_type": "stream",
     "text": [
      "Connected to server joshuacook.me.\n"
     ]
    }
   ],
   "source": [
    "page_vectors = db.select_all_page_vectors()"
   ]
  },
  {
   "cell_type": "code",
   "execution_count": 31,
   "metadata": {
    "collapsed": false
   },
   "outputs": [
    {
     "data": {
      "text/html": [
       "<div>\n",
       "<table border=\"1\" class=\"dataframe\">\n",
       "  <thead>\n",
       "    <tr style=\"text-align: right;\">\n",
       "      <th></th>\n",
       "      <th>1</th>\n",
       "    </tr>\n",
       "    <tr>\n",
       "      <th>0</th>\n",
       "      <th></th>\n",
       "    </tr>\n",
       "  </thead>\n",
       "  <tbody>\n",
       "    <tr>\n",
       "      <th>344083</th>\n",
       "      <td>[0.275585459678, -0.101264765275, 0.0071147303...</td>\n",
       "    </tr>\n",
       "    <tr>\n",
       "      <th>45260809</th>\n",
       "      <td>[0.187592880123, -0.0532276248654, 0.016398662...</td>\n",
       "    </tr>\n",
       "    <tr>\n",
       "      <th>4341789</th>\n",
       "      <td>[0.0930368087013, -0.0385402048546, -0.0007905...</td>\n",
       "    </tr>\n",
       "    <tr>\n",
       "      <th>2514975</th>\n",
       "      <td>[0.124437577366, 0.166966998311, -0.2158265304...</td>\n",
       "    </tr>\n",
       "    <tr>\n",
       "      <th>35135520</th>\n",
       "      <td>[0.191218953783, -0.0319792314494, 0.011208635...</td>\n",
       "    </tr>\n",
       "  </tbody>\n",
       "</table>\n",
       "</div>"
      ],
      "text/plain": [
       "                                                          1\n",
       "0                                                          \n",
       "344083    [0.275585459678, -0.101264765275, 0.0071147303...\n",
       "45260809  [0.187592880123, -0.0532276248654, 0.016398662...\n",
       "4341789   [0.0930368087013, -0.0385402048546, -0.0007905...\n",
       "2514975   [0.124437577366, 0.166966998311, -0.2158265304...\n",
       "35135520  [0.191218953783, -0.0319792314494, 0.011208635..."
      ]
     },
     "execution_count": 31,
     "metadata": {},
     "output_type": "execute_result"
    }
   ],
   "source": [
    "page_vectors_df = pd.DataFrame.from_records(page_vectors)\n",
    "page_vectors_df.index = page_vectors_df[0]\n",
    "page_vectors_df.drop(0, inplace=True, axis=1)\n",
    "page_vectors_df.head()"
   ]
  }
 ],
 "metadata": {
  "anaconda-cloud": {},
  "kernelspec": {
   "display_name": "Python [conda root]",
   "language": "python",
   "name": "conda-root-py"
  },
  "language_info": {
   "codemirror_mode": {
    "name": "ipython",
    "version": 2
   },
   "file_extension": ".py",
   "mimetype": "text/x-python",
   "name": "python",
   "nbconvert_exporter": "python",
   "pygments_lexer": "ipython2",
   "version": "2.7.12"
  }
 },
 "nbformat": 4,
 "nbformat_minor": 1
}
